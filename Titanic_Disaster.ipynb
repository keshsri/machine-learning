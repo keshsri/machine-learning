{
  "nbformat": 4,
  "nbformat_minor": 0,
  "metadata": {
    "colab": {
      "provenance": [],
      "gpuType": "T4",
      "authorship_tag": "ABX9TyM3fVHWzgdD2UnCc/qzxwIa",
      "include_colab_link": true
    },
    "kernelspec": {
      "name": "python3",
      "display_name": "Python 3"
    },
    "language_info": {
      "name": "python"
    },
    "accelerator": "GPU"
  },
  "cells": [
    {
      "cell_type": "markdown",
      "metadata": {
        "id": "view-in-github",
        "colab_type": "text"
      },
      "source": [
        "<a href=\"https://colab.research.google.com/github/keshsri/machine-learning/blob/main/Titanic_Disaster.ipynb\" target=\"_parent\"><img src=\"https://colab.research.google.com/assets/colab-badge.svg\" alt=\"Open In Colab\"/></a>"
      ]
    },
    {
      "cell_type": "code",
      "execution_count": null,
      "metadata": {
        "id": "H20DsrXba3Zk"
      },
      "outputs": [],
      "source": [
        "import zipfile\n",
        "\n",
        "local_zip = './titanic.zip'\n",
        "zip_ref = zipfile.ZipFile(local_zip, 'r')\n",
        "zip_ref.extractall('./titanic')\n",
        "\n",
        "zip_ref.close()"
      ]
    },
    {
      "cell_type": "code",
      "source": [
        "import pandas as pd\n",
        "\n",
        "train_data = pd.read_csv('./titanic/train.csv')\n",
        "test_data = pd.read_csv('./titanic/test.csv')"
      ],
      "metadata": {
        "id": "lvkmWEgNb4Cp"
      },
      "execution_count": null,
      "outputs": []
    },
    {
      "cell_type": "code",
      "source": [
        "print(train_data.info())\n",
        "print(test_data.info())"
      ],
      "metadata": {
        "colab": {
          "base_uri": "https://localhost:8080/"
        },
        "id": "IcJoEyixJ1ZR",
        "outputId": "5612dd5c-3804-403b-e494-d12a1638e2c7"
      },
      "execution_count": null,
      "outputs": [
        {
          "output_type": "stream",
          "name": "stdout",
          "text": [
            "<class 'pandas.core.frame.DataFrame'>\n",
            "RangeIndex: 891 entries, 0 to 890\n",
            "Data columns (total 12 columns):\n",
            " #   Column       Non-Null Count  Dtype  \n",
            "---  ------       --------------  -----  \n",
            " 0   PassengerId  891 non-null    int64  \n",
            " 1   Survived     891 non-null    int64  \n",
            " 2   Pclass       891 non-null    int64  \n",
            " 3   Name         891 non-null    object \n",
            " 4   Sex          891 non-null    object \n",
            " 5   Age          714 non-null    float64\n",
            " 6   SibSp        891 non-null    int64  \n",
            " 7   Parch        891 non-null    int64  \n",
            " 8   Ticket       891 non-null    object \n",
            " 9   Fare         891 non-null    float64\n",
            " 10  Cabin        204 non-null    object \n",
            " 11  Embarked     889 non-null    object \n",
            "dtypes: float64(2), int64(5), object(5)\n",
            "memory usage: 83.7+ KB\n",
            "None\n",
            "<class 'pandas.core.frame.DataFrame'>\n",
            "RangeIndex: 418 entries, 0 to 417\n",
            "Data columns (total 11 columns):\n",
            " #   Column       Non-Null Count  Dtype  \n",
            "---  ------       --------------  -----  \n",
            " 0   PassengerId  418 non-null    int64  \n",
            " 1   Pclass       418 non-null    int64  \n",
            " 2   Name         418 non-null    object \n",
            " 3   Sex          418 non-null    object \n",
            " 4   Age          332 non-null    float64\n",
            " 5   SibSp        418 non-null    int64  \n",
            " 6   Parch        418 non-null    int64  \n",
            " 7   Ticket       418 non-null    object \n",
            " 8   Fare         417 non-null    float64\n",
            " 9   Cabin        91 non-null     object \n",
            " 10  Embarked     418 non-null    object \n",
            "dtypes: float64(2), int64(4), object(5)\n",
            "memory usage: 36.0+ KB\n",
            "None\n"
          ]
        }
      ]
    },
    {
      "cell_type": "code",
      "source": [
        "train_data['Age'].fillna(train_data['Age'].mean(), inplace=True)\n",
        "train_data['Embarked'].fillna(train_data['Embarked'].mode()[0], inplace=True)\n",
        "\n",
        "test_data['Age'].fillna(test_data['Age'].mean(), inplace=True)\n",
        "test_data['Fare'].fillna(test_data['Fare'].mean(), inplace=True)\n",
        "\n",
        "train_data.columns = train_data.columns.str.replace(' ','')\n",
        "\n",
        "print(train_data.info())\n",
        "print(test_data.info())"
      ],
      "metadata": {
        "colab": {
          "base_uri": "https://localhost:8080/"
        },
        "id": "0T1tNY3YeliT",
        "outputId": "01180154-c644-4872-bb98-16e31954f873"
      },
      "execution_count": null,
      "outputs": [
        {
          "output_type": "stream",
          "name": "stdout",
          "text": [
            "<class 'pandas.core.frame.DataFrame'>\n",
            "RangeIndex: 891 entries, 0 to 890\n",
            "Data columns (total 12 columns):\n",
            " #   Column       Non-Null Count  Dtype  \n",
            "---  ------       --------------  -----  \n",
            " 0   PassengerId  891 non-null    int64  \n",
            " 1   Survived     891 non-null    int64  \n",
            " 2   Pclass       891 non-null    int64  \n",
            " 3   Name         891 non-null    object \n",
            " 4   Sex          891 non-null    object \n",
            " 5   Age          891 non-null    float64\n",
            " 6   SibSp        891 non-null    int64  \n",
            " 7   Parch        891 non-null    int64  \n",
            " 8   Ticket       891 non-null    object \n",
            " 9   Fare         891 non-null    float64\n",
            " 10  Cabin        204 non-null    object \n",
            " 11  Embarked     891 non-null    object \n",
            "dtypes: float64(2), int64(5), object(5)\n",
            "memory usage: 83.7+ KB\n",
            "None\n",
            "<class 'pandas.core.frame.DataFrame'>\n",
            "RangeIndex: 418 entries, 0 to 417\n",
            "Data columns (total 11 columns):\n",
            " #   Column       Non-Null Count  Dtype  \n",
            "---  ------       --------------  -----  \n",
            " 0   PassengerId  418 non-null    int64  \n",
            " 1   Pclass       418 non-null    int64  \n",
            " 2   Name         418 non-null    object \n",
            " 3   Sex          418 non-null    object \n",
            " 4   Age          418 non-null    float64\n",
            " 5   SibSp        418 non-null    int64  \n",
            " 6   Parch        418 non-null    int64  \n",
            " 7   Ticket       418 non-null    object \n",
            " 8   Fare         418 non-null    float64\n",
            " 9   Cabin        91 non-null     object \n",
            " 10  Embarked     418 non-null    object \n",
            "dtypes: float64(2), int64(4), object(5)\n",
            "memory usage: 36.0+ KB\n",
            "None\n"
          ]
        }
      ]
    },
    {
      "cell_type": "code",
      "source": [
        "train_data = pd.get_dummies(train_data, columns = ['Sex','Embarked'], drop_first=True)\n",
        "\n",
        "x_train = train_data.drop(['Survived','PassengerId','Name','Ticket','Cabin'], axis = 1)\n",
        "y_train = train_data['Survived']"
      ],
      "metadata": {
        "id": "GHEIhmqAhEGb"
      },
      "execution_count": null,
      "outputs": []
    },
    {
      "cell_type": "code",
      "source": [
        "from sklearn.preprocessing import StandardScaler\n",
        "scaler = StandardScaler()\n",
        "x_train = scaler.fit_transform(x_train)\n",
        "\n",
        "from sklearn.model_selection import train_test_split\n",
        "X_train, X_test, Y_train, Y_test = train_test_split(x_train, y_train, random_state=42)\n",
        "\n",
        "X_train, X_train_val, Y_train, Y_train_val = train_test_split(X_train, Y_train, random_state=42)"
      ],
      "metadata": {
        "id": "f29hMMbFkIma"
      },
      "execution_count": null,
      "outputs": []
    },
    {
      "cell_type": "code",
      "source": [
        "from tensorflow import keras\n",
        "\n",
        "model = keras.models.Sequential([\n",
        "    keras.layers.Dense(64, activation = 'relu', input_dim=x_train.shape[1]),\n",
        "    keras.layers.Dense(64, activation = 'relu'),\n",
        "    keras.layers.Dense(1, activation = 'sigmoid')\n",
        "])\n",
        "\n",
        "model.summary()"
      ],
      "metadata": {
        "colab": {
          "base_uri": "https://localhost:8080/"
        },
        "id": "rpLC37K6qyCD",
        "outputId": "d5a7e395-28ae-4aee-a831-b1dd92b78f05"
      },
      "execution_count": null,
      "outputs": [
        {
          "output_type": "stream",
          "name": "stdout",
          "text": [
            "Model: \"sequential\"\n",
            "_________________________________________________________________\n",
            " Layer (type)                Output Shape              Param #   \n",
            "=================================================================\n",
            " dense (Dense)               (None, 64)                576       \n",
            "                                                                 \n",
            " dense_1 (Dense)             (None, 64)                4160      \n",
            "                                                                 \n",
            " dense_2 (Dense)             (None, 1)                 65        \n",
            "                                                                 \n",
            "=================================================================\n",
            "Total params: 4,801\n",
            "Trainable params: 4,801\n",
            "Non-trainable params: 0\n",
            "_________________________________________________________________\n"
          ]
        }
      ]
    },
    {
      "cell_type": "code",
      "source": [
        "model.compile(optimizer = 'Adam',\n",
        "              loss = 'binary_crossentropy',\n",
        "              metrics = ['accuracy'])"
      ],
      "metadata": {
        "id": "SqRmzwuMsfbq"
      },
      "execution_count": null,
      "outputs": []
    },
    {
      "cell_type": "markdown",
      "source": [],
      "metadata": {
        "id": "o5BL0PxSAI8W"
      }
    },
    {
      "cell_type": "code",
      "source": [
        "history = model.fit(X_train, Y_train, epochs = 50, validation_data=(X_train_val, Y_train_val))"
      ],
      "metadata": {
        "colab": {
          "base_uri": "https://localhost:8080/"
        },
        "id": "OdCN7xTYujoA",
        "outputId": "73a1c6e6-b3b3-4e27-db05-254e87018106"
      },
      "execution_count": null,
      "outputs": [
        {
          "output_type": "stream",
          "name": "stdout",
          "text": [
            "Epoch 1/50\n",
            "16/16 [==============================] - 5s 38ms/step - loss: 0.6378 - accuracy: 0.6707 - val_loss: 0.5813 - val_accuracy: 0.7485\n",
            "Epoch 2/50\n",
            "16/16 [==============================] - 0s 23ms/step - loss: 0.5528 - accuracy: 0.7884 - val_loss: 0.5189 - val_accuracy: 0.7964\n",
            "Epoch 3/50\n",
            "16/16 [==============================] - 0s 16ms/step - loss: 0.4952 - accuracy: 0.8004 - val_loss: 0.4740 - val_accuracy: 0.8204\n",
            "Epoch 4/50\n",
            "16/16 [==============================] - 0s 11ms/step - loss: 0.4627 - accuracy: 0.8044 - val_loss: 0.4471 - val_accuracy: 0.8263\n",
            "Epoch 5/50\n",
            "16/16 [==============================] - 0s 10ms/step - loss: 0.4462 - accuracy: 0.8104 - val_loss: 0.4367 - val_accuracy: 0.8084\n",
            "Epoch 6/50\n",
            "16/16 [==============================] - 0s 9ms/step - loss: 0.4361 - accuracy: 0.8204 - val_loss: 0.4252 - val_accuracy: 0.8323\n",
            "Epoch 7/50\n",
            "16/16 [==============================] - 0s 12ms/step - loss: 0.4292 - accuracy: 0.8164 - val_loss: 0.4198 - val_accuracy: 0.8263\n",
            "Epoch 8/50\n",
            "16/16 [==============================] - 0s 11ms/step - loss: 0.4224 - accuracy: 0.8244 - val_loss: 0.4211 - val_accuracy: 0.8323\n",
            "Epoch 9/50\n",
            "16/16 [==============================] - 0s 20ms/step - loss: 0.4164 - accuracy: 0.8283 - val_loss: 0.4148 - val_accuracy: 0.8323\n",
            "Epoch 10/50\n",
            "16/16 [==============================] - 0s 21ms/step - loss: 0.4114 - accuracy: 0.8303 - val_loss: 0.4111 - val_accuracy: 0.8383\n",
            "Epoch 11/50\n",
            "16/16 [==============================] - 0s 16ms/step - loss: 0.4077 - accuracy: 0.8323 - val_loss: 0.4104 - val_accuracy: 0.8323\n",
            "Epoch 12/50\n",
            "16/16 [==============================] - 0s 11ms/step - loss: 0.4038 - accuracy: 0.8323 - val_loss: 0.4112 - val_accuracy: 0.8383\n",
            "Epoch 13/50\n",
            "16/16 [==============================] - 0s 17ms/step - loss: 0.3999 - accuracy: 0.8343 - val_loss: 0.4133 - val_accuracy: 0.8323\n",
            "Epoch 14/50\n",
            "16/16 [==============================] - 0s 20ms/step - loss: 0.3971 - accuracy: 0.8443 - val_loss: 0.4108 - val_accuracy: 0.8204\n",
            "Epoch 15/50\n",
            "16/16 [==============================] - 0s 20ms/step - loss: 0.3934 - accuracy: 0.8363 - val_loss: 0.4070 - val_accuracy: 0.8323\n",
            "Epoch 16/50\n",
            "16/16 [==============================] - 0s 20ms/step - loss: 0.3931 - accuracy: 0.8363 - val_loss: 0.4082 - val_accuracy: 0.8263\n",
            "Epoch 17/50\n",
            "16/16 [==============================] - 0s 16ms/step - loss: 0.3896 - accuracy: 0.8403 - val_loss: 0.4068 - val_accuracy: 0.8323\n",
            "Epoch 18/50\n",
            "16/16 [==============================] - 0s 17ms/step - loss: 0.3869 - accuracy: 0.8343 - val_loss: 0.4076 - val_accuracy: 0.8323\n",
            "Epoch 19/50\n",
            "16/16 [==============================] - 0s 22ms/step - loss: 0.3849 - accuracy: 0.8443 - val_loss: 0.4048 - val_accuracy: 0.8263\n",
            "Epoch 20/50\n",
            "16/16 [==============================] - 0s 21ms/step - loss: 0.3828 - accuracy: 0.8423 - val_loss: 0.4107 - val_accuracy: 0.8204\n",
            "Epoch 21/50\n",
            "16/16 [==============================] - 0s 18ms/step - loss: 0.3807 - accuracy: 0.8403 - val_loss: 0.4069 - val_accuracy: 0.8144\n",
            "Epoch 22/50\n",
            "16/16 [==============================] - 0s 14ms/step - loss: 0.3791 - accuracy: 0.8443 - val_loss: 0.4057 - val_accuracy: 0.8204\n",
            "Epoch 23/50\n",
            "16/16 [==============================] - 0s 11ms/step - loss: 0.3788 - accuracy: 0.8403 - val_loss: 0.4065 - val_accuracy: 0.8383\n",
            "Epoch 24/50\n",
            "16/16 [==============================] - 0s 10ms/step - loss: 0.3759 - accuracy: 0.8463 - val_loss: 0.4092 - val_accuracy: 0.8144\n",
            "Epoch 25/50\n",
            "16/16 [==============================] - 0s 12ms/step - loss: 0.3745 - accuracy: 0.8403 - val_loss: 0.4028 - val_accuracy: 0.8323\n",
            "Epoch 26/50\n",
            "16/16 [==============================] - 0s 14ms/step - loss: 0.3713 - accuracy: 0.8423 - val_loss: 0.4091 - val_accuracy: 0.8144\n",
            "Epoch 27/50\n",
            "16/16 [==============================] - 0s 12ms/step - loss: 0.3716 - accuracy: 0.8443 - val_loss: 0.4076 - val_accuracy: 0.8204\n",
            "Epoch 28/50\n",
            "16/16 [==============================] - 0s 10ms/step - loss: 0.3731 - accuracy: 0.8463 - val_loss: 0.4085 - val_accuracy: 0.8263\n",
            "Epoch 29/50\n",
            "16/16 [==============================] - 0s 16ms/step - loss: 0.3673 - accuracy: 0.8463 - val_loss: 0.4045 - val_accuracy: 0.8323\n",
            "Epoch 30/50\n",
            "16/16 [==============================] - 0s 13ms/step - loss: 0.3659 - accuracy: 0.8483 - val_loss: 0.4105 - val_accuracy: 0.8263\n",
            "Epoch 31/50\n",
            "16/16 [==============================] - 0s 15ms/step - loss: 0.3642 - accuracy: 0.8463 - val_loss: 0.4072 - val_accuracy: 0.8144\n",
            "Epoch 32/50\n",
            "16/16 [==============================] - 0s 15ms/step - loss: 0.3616 - accuracy: 0.8463 - val_loss: 0.4125 - val_accuracy: 0.8204\n",
            "Epoch 33/50\n",
            "16/16 [==============================] - 0s 18ms/step - loss: 0.3616 - accuracy: 0.8463 - val_loss: 0.4103 - val_accuracy: 0.8263\n",
            "Epoch 34/50\n",
            "16/16 [==============================] - 0s 11ms/step - loss: 0.3613 - accuracy: 0.8483 - val_loss: 0.4137 - val_accuracy: 0.8084\n",
            "Epoch 35/50\n",
            "16/16 [==============================] - 0s 21ms/step - loss: 0.3639 - accuracy: 0.8563 - val_loss: 0.4095 - val_accuracy: 0.8204\n",
            "Epoch 36/50\n",
            "16/16 [==============================] - 0s 16ms/step - loss: 0.3572 - accuracy: 0.8463 - val_loss: 0.4119 - val_accuracy: 0.8204\n",
            "Epoch 37/50\n",
            "16/16 [==============================] - 0s 20ms/step - loss: 0.3563 - accuracy: 0.8443 - val_loss: 0.4116 - val_accuracy: 0.8084\n",
            "Epoch 38/50\n",
            "16/16 [==============================] - 0s 20ms/step - loss: 0.3561 - accuracy: 0.8523 - val_loss: 0.4179 - val_accuracy: 0.8084\n",
            "Epoch 39/50\n",
            "16/16 [==============================] - 0s 11ms/step - loss: 0.3542 - accuracy: 0.8443 - val_loss: 0.4116 - val_accuracy: 0.8144\n",
            "Epoch 40/50\n",
            "16/16 [==============================] - 0s 10ms/step - loss: 0.3564 - accuracy: 0.8483 - val_loss: 0.4104 - val_accuracy: 0.8084\n",
            "Epoch 41/50\n",
            "16/16 [==============================] - 0s 10ms/step - loss: 0.3503 - accuracy: 0.8523 - val_loss: 0.4161 - val_accuracy: 0.8084\n",
            "Epoch 42/50\n",
            "16/16 [==============================] - 0s 14ms/step - loss: 0.3488 - accuracy: 0.8543 - val_loss: 0.4056 - val_accuracy: 0.8144\n",
            "Epoch 43/50\n",
            "16/16 [==============================] - 0s 10ms/step - loss: 0.3475 - accuracy: 0.8503 - val_loss: 0.4109 - val_accuracy: 0.8084\n",
            "Epoch 44/50\n",
            "16/16 [==============================] - 0s 9ms/step - loss: 0.3465 - accuracy: 0.8503 - val_loss: 0.4146 - val_accuracy: 0.8084\n",
            "Epoch 45/50\n",
            "16/16 [==============================] - 0s 12ms/step - loss: 0.3459 - accuracy: 0.8503 - val_loss: 0.4157 - val_accuracy: 0.8084\n",
            "Epoch 46/50\n",
            "16/16 [==============================] - 0s 14ms/step - loss: 0.3469 - accuracy: 0.8543 - val_loss: 0.4152 - val_accuracy: 0.8084\n",
            "Epoch 47/50\n",
            "16/16 [==============================] - 0s 12ms/step - loss: 0.3433 - accuracy: 0.8543 - val_loss: 0.4146 - val_accuracy: 0.8084\n",
            "Epoch 48/50\n",
            "16/16 [==============================] - 0s 15ms/step - loss: 0.3421 - accuracy: 0.8483 - val_loss: 0.4157 - val_accuracy: 0.8084\n",
            "Epoch 49/50\n",
            "16/16 [==============================] - 0s 14ms/step - loss: 0.3408 - accuracy: 0.8583 - val_loss: 0.4170 - val_accuracy: 0.8084\n",
            "Epoch 50/50\n",
            "16/16 [==============================] - 0s 11ms/step - loss: 0.3401 - accuracy: 0.8523 - val_loss: 0.4152 - val_accuracy: 0.7964\n"
          ]
        }
      ]
    },
    {
      "cell_type": "code",
      "source": [
        "%matplotlib inline\n",
        "import matplotlib.pyplot as plt\n",
        "\n",
        "acc      = history.history['accuracy']\n",
        "val_acc  = history.history['val_accuracy']\n",
        "loss     = history.history['loss']\n",
        "val_loss = history.history['val_loss']\n",
        "\n",
        "epochs   = range(len(acc))\n",
        "\n",
        "plt.plot  ( epochs,     acc )\n",
        "plt.plot  ( epochs, val_acc )\n",
        "plt.title ('Training and validation accuracy')\n",
        "plt.figure()\n",
        "\n",
        "plt.plot  ( epochs,     loss )\n",
        "plt.plot  ( epochs, val_loss )\n",
        "plt.title ('Training and validation loss'   )"
      ],
      "metadata": {
        "colab": {
          "base_uri": "https://localhost:8080/",
          "height": 904
        },
        "id": "2NFii3Vn_I8B",
        "outputId": "57651447-3a0d-478d-f389-8b699c1ffabf"
      },
      "execution_count": null,
      "outputs": [
        {
          "output_type": "execute_result",
          "data": {
            "text/plain": [
              "Text(0.5, 1.0, 'Training and validation loss')"
            ]
          },
          "metadata": {},
          "execution_count": 10
        },
        {
          "output_type": "display_data",
          "data": {
            "text/plain": [
              "<Figure size 640x480 with 1 Axes>"
            ],
            "image/png": "[encoded data removed]"
          },
          "metadata": {}
        },
        {
          "output_type": "display_data",
          "data": {
            "text/plain": [
              "<Figure size 640x480 with 1 Axes>"
            ],
            "image/png": "[encoded data removed]"
          },
          "metadata": {}
        }
      ]
    },
    {
      "cell_type": "code",
      "source": [
        "test_data.columns = test_data.columns.str.replace(' ','')\n",
        "\n",
        "test_data = pd.get_dummies(test_data, columns = ['Sex','Embarked'], drop_first=True)\n",
        "\n",
        "x_test = test_data.drop(['PassengerId','Name','Ticket','Cabin'], axis = 1)"
      ],
      "metadata": {
        "id": "TBF1gC7Buv2P"
      },
      "execution_count": null,
      "outputs": []
    },
    {
      "cell_type": "code",
      "source": [
        "test_loss, test_accuracy = model.evaluate(X_test, Y_test)\n",
        "print(f'Test Accuracy: {test_accuracy}')\n",
        "print(f'Test Loss: {test_loss}')"
      ],
      "metadata": {
        "colab": {
          "base_uri": "https://localhost:8080/"
        },
        "id": "IhmGqMr3yE95",
        "outputId": "ddd90d17-95e7-456e-c2c5-80b2c1cb7464"
      },
      "execution_count": null,
      "outputs": [
        {
          "output_type": "stream",
          "name": "stdout",
          "text": [
            "7/7 [==============================] - 0s 3ms/step - loss: 0.4519 - accuracy: 0.8072\n",
            "Test Accuracy: 0.8071748614311218\n",
            "Test Loss: 0.4518563747406006\n"
          ]
        }
      ]
    },
    {
      "cell_type": "code",
      "source": [
        "predict = model.predict(x_test)"
      ],
      "metadata": {
        "colab": {
          "base_uri": "https://localhost:8080/"
        },
        "id": "DRe1EapGzsPe",
        "outputId": "ce955ac7-14a4-41cb-b0b4-3ed29b28f596"
      },
      "execution_count": null,
      "outputs": [
        {
          "output_type": "stream",
          "name": "stdout",
          "text": [
            "14/14 [==============================] - 0s 2ms/step\n"
          ]
        }
      ]
    },
    {
      "cell_type": "code",
      "source": [
        "import numpy as np\n",
        "\n",
        "predict_round = np.round(predict, 1)\n",
        "prediction = predict_round.astype(int)\n",
        "\n",
        "print(len(prediction))"
      ],
      "metadata": {
        "colab": {
          "base_uri": "https://localhost:8080/"
        },
        "id": "YvOfGhyKwC-9",
        "outputId": "a4cdec52-0f18-4ba2-fb8d-d0df8b5cd9f9"
      },
      "execution_count": null,
      "outputs": [
        {
          "output_type": "stream",
          "name": "stdout",
          "text": [
            "418\n"
          ]
        }
      ]
    },
    {
      "cell_type": "code",
      "source": [
        "result = pd.DataFrame()\n",
        "\n",
        "result['PassengerId'] = test_data['PassengerId']\n",
        "result['Survived'] = prediction\n",
        "\n",
        "result"
      ],
      "metadata": {
        "id": "cHsaqDkQwiz9",
        "colab": {
          "base_uri": "https://localhost:8080/",
          "height": 423
        },
        "outputId": "eda41eee-1645-49e6-d8ec-63636baf6127"
      },
      "execution_count": null,
      "outputs": [
        {
          "output_type": "execute_result",
          "data": {
            "text/plain": [
              "     PassengerId  Survived\n",
              "0            892         0\n",
              "1            893         0\n",
              "2            894         0\n",
              "3            895         0\n",
              "4            896         0\n",
              "..           ...       ...\n",
              "413         1305         0\n",
              "414         1306         1\n",
              "415         1307         0\n",
              "416         1308         0\n",
              "417         1309         0\n",
              "\n",
              "[418 rows x 2 columns]"
            ],
            "text/html": [
              "\n",
              "  <div id=\"df-27eb9dc9-3432-4781-9c01-0d09daf6c409\" class=\"colab-df-container\">\n",
              "    <div>\n",
              "<style scoped>\n",
              "    .dataframe tbody tr th:only-of-type {\n",
              "        vertical-align: middle;\n",
              "    }\n",
              "\n",
              "    .dataframe tbody tr th {\n",
              "        vertical-align: top;\n",
              "    }\n",
              "\n",
              "    .dataframe thead th {\n",
              "        text-align: right;\n",
              "    }\n",
              "</style>\n",
              "<table border=\"1\" class=\"dataframe\">\n",
              "  <thead>\n",
              "    <tr style=\"text-align: right;\">\n",
              "      <th></th>\n",
              "      <th>PassengerId</th>\n",
              "      <th>Survived</th>\n",
              "    </tr>\n",
              "  </thead>\n",
              "  <tbody>\n",
              "    <tr>\n",
              "      <th>0</th>\n",
              "      <td>892</td>\n",
              "      <td>0</td>\n",
              "    </tr>\n",
              "    <tr>\n",
              "      <th>1</th>\n",
              "      <td>893</td>\n",
              "      <td>0</td>\n",
              "    </tr>\n",
              "    <tr>\n",
              "      <th>2</th>\n",
              "      <td>894</td>\n",
              "      <td>0</td>\n",
              "    </tr>\n",
              "    <tr>\n",
              "      <th>3</th>\n",
              "      <td>895</td>\n",
              "      <td>0</td>\n",
              "    </tr>\n",
              "    <tr>\n",
              "      <th>4</th>\n",
              "      <td>896</td>\n",
              "      <td>0</td>\n",
              "    </tr>\n",
              "    <tr>\n",
              "      <th>...</th>\n",
              "      <td>...</td>\n",
              "      <td>...</td>\n",
              "    </tr>\n",
              "    <tr>\n",
              "      <th>413</th>\n",
              "      <td>1305</td>\n",
              "      <td>0</td>\n",
              "    </tr>\n",
              "    <tr>\n",
              "      <th>414</th>\n",
              "      <td>1306</td>\n",
              "      <td>1</td>\n",
              "    </tr>\n",
              "    <tr>\n",
              "      <th>415</th>\n",
              "      <td>1307</td>\n",
              "      <td>0</td>\n",
              "    </tr>\n",
              "    <tr>\n",
              "      <th>416</th>\n",
              "      <td>1308</td>\n",
              "      <td>0</td>\n",
              "    </tr>\n",
              "    <tr>\n",
              "      <th>417</th>\n",
              "      <td>1309</td>\n",
              "      <td>0</td>\n",
              "    </tr>\n",
              "  </tbody>\n",
              "</table>\n",
              "<p>418 rows × 2 columns</p>\n",
              "</div>\n",
              "    <div class=\"colab-df-buttons\">\n",
              "\n",
              "  <div class=\"colab-df-container\">\n",
              "    <button class=\"colab-df-convert\" onclick=\"convertToInteractive('df-27eb9dc9-3432-4781-9c01-0d09daf6c409')\"\n",
              "            title=\"Convert this dataframe to an interactive table.\"\n",
              "            style=\"display:none;\">\n",
              "\n",
              "  <svg xmlns=\"http://www.w3.org/2000/svg\" height=\"24px\" viewBox=\"0 -960 960 960\">\n",
              "    <path d=\"M120-120v-720h720v720H120Zm60-500h600v-160H180v160Zm220 220h160v-160H400v160Zm0 220h160v-160H400v160ZM180-400h160v-160H180v160Zm440 0h160v-160H620v160ZM180-180h160v-160H180v160Zm440 0h160v-160H620v160Z\"/>\n",
              "  </svg>\n",
              "    </button>\n",
              "\n",
              "  <style>\n",
              "    .colab-df-container {\n",
              "      display:flex;\n",
              "      gap: 12px;\n",
              "    }\n",
              "\n",
              "    .colab-df-convert {\n",
              "      background-color: #E8F0FE;\n",
              "      border: none;\n",
              "      border-radius: 50%;\n",
              "      cursor: pointer;\n",
              "      display: none;\n",
              "      fill: #1967D2;\n",
              "      height: 32px;\n",
              "      padding: 0 0 0 0;\n",
              "      width: 32px;\n",
              "    }\n",
              "\n",
              "    .colab-df-convert:hover {\n",
              "      background-color: #E2EBFA;\n",
              "      box-shadow: 0px 1px 2px rgba(60, 64, 67, 0.3), 0px 1px 3px 1px rgba(60, 64, 67, 0.15);\n",
              "      fill: #174EA6;\n",
              "    }\n",
              "\n",
              "    .colab-df-buttons div {\n",
              "      margin-bottom: 4px;\n",
              "    }\n",
              "\n",
              "    [theme=dark] .colab-df-convert {\n",
              "      background-color: #3B4455;\n",
              "      fill: #D2E3FC;\n",
              "    }\n",
              "\n",
              "    [theme=dark] .colab-df-convert:hover {\n",
              "      background-color: #434B5C;\n",
              "      box-shadow: 0px 1px 3px 1px rgba(0, 0, 0, 0.15);\n",
              "      filter: drop-shadow(0px 1px 2px rgba(0, 0, 0, 0.3));\n",
              "      fill: #FFFFFF;\n",
              "    }\n",
              "  </style>\n",
              "\n",
              "    <script>\n",
              "      const buttonEl =\n",
              "        document.querySelector('#df-27eb9dc9-3432-4781-9c01-0d09daf6c409 button.colab-df-convert');\n",
              "      buttonEl.style.display =\n",
              "        google.colab.kernel.accessAllowed ? 'block' : 'none';\n",
              "\n",
              "      async function convertToInteractive(key) {\n",
              "        const element = document.querySelector('#df-27eb9dc9-3432-4781-9c01-0d09daf6c409');\n",
              "        const dataTable =\n",
              "          await google.colab.kernel.invokeFunction('convertToInteractive',\n",
              "                                                    [key], {});\n",
              "        if (!dataTable) return;\n",
              "\n",
              "        const docLinkHtml = 'Like what you see? Visit the ' +\n",
              "          '<a target=\"_blank\" href=https://colab.research.google.com/notebooks/data_table.ipynb>data table notebook</a>'\n",
              "          + ' to learn more about interactive tables.';\n",
              "        element.innerHTML = '';\n",
              "        dataTable['output_type'] = 'display_data';\n",
              "        await google.colab.output.renderOutput(dataTable, element);\n",
              "        const docLink = document.createElement('div');\n",
              "        docLink.innerHTML = docLinkHtml;\n",
              "        element.appendChild(docLink);\n",
              "      }\n",
              "    </script>\n",
              "  </div>\n",
              "\n",
              "\n",
              "<div id=\"df-b97491c7-0e4c-4f9f-83f2-ce0318a86080\">\n",
              "  <button class=\"colab-df-quickchart\" onclick=\"quickchart('df-b97491c7-0e4c-4f9f-83f2-ce0318a86080')\"\n",
              "            title=\"Suggest charts.\"\n",
              "            style=\"display:none;\">\n",
              "\n",
              "<svg xmlns=\"http://www.w3.org/2000/svg\" height=\"24px\"viewBox=\"0 0 24 24\"\n",
              "     width=\"24px\">\n",
              "    <g>\n",
              "        <path d=\"M19 3H5c-1.1 0-2 .9-2 2v14c0 1.1.9 2 2 2h14c1.1 0 2-.9 2-2V5c0-1.1-.9-2-2-2zM9 17H7v-7h2v7zm4 0h-2V7h2v10zm4 0h-2v-4h2v4z\"/>\n",
              "    </g>\n",
              "</svg>\n",
              "  </button>\n",
              "\n",
              "<style>\n",
              "  .colab-df-quickchart {\n",
              "      --bg-color: #E8F0FE;\n",
              "      --fill-color: #1967D2;\n",
              "      --hover-bg-color: #E2EBFA;\n",
              "      --hover-fill-color: #174EA6;\n",
              "      --disabled-fill-color: #AAA;\n",
              "      --disabled-bg-color: #DDD;\n",
              "  }\n",
              "\n",
              "  [theme=dark] .colab-df-quickchart {\n",
              "      --bg-color: #3B4455;\n",
              "      --fill-color: #D2E3FC;\n",
              "      --hover-bg-color: #434B5C;\n",
              "      --hover-fill-color: #FFFFFF;\n",
              "      --disabled-bg-color: #3B4455;\n",
              "      --disabled-fill-color: #666;\n",
              "  }\n",
              "\n",
              "  .colab-df-quickchart {\n",
              "    background-color: var(--bg-color);\n",
              "    border: none;\n",
              "    border-radius: 50%;\n",
              "    cursor: pointer;\n",
              "    display: none;\n",
              "    fill: var(--fill-color);\n",
              "    height: 32px;\n",
              "    padding: 0;\n",
              "    width: 32px;\n",
              "  }\n",
              "\n",
              "  .colab-df-quickchart:hover {\n",
              "    background-color: var(--hover-bg-color);\n",
              "    box-shadow: 0 1px 2px rgba(60, 64, 67, 0.3), 0 1px 3px 1px rgba(60, 64, 67, 0.15);\n",
              "    fill: var(--button-hover-fill-color);\n",
              "  }\n",
              "\n",
              "  .colab-df-quickchart-complete:disabled,\n",
              "  .colab-df-quickchart-complete:disabled:hover {\n",
              "    background-color: var(--disabled-bg-color);\n",
              "    fill: var(--disabled-fill-color);\n",
              "    box-shadow: none;\n",
              "  }\n",
              "\n",
              "  .colab-df-spinner {\n",
              "    border: 2px solid var(--fill-color);\n",
              "    border-color: transparent;\n",
              "    border-bottom-color: var(--fill-color);\n",
              "    animation:\n",
              "      spin 1s steps(1) infinite;\n",
              "  }\n",
              "\n",
              "  @keyframes spin {\n",
              "    0% {\n",
              "      border-color: transparent;\n",
              "      border-bottom-color: var(--fill-color);\n",
              "      border-left-color: var(--fill-color);\n",
              "    }\n",
              "    20% {\n",
              "      border-color: transparent;\n",
              "      border-left-color: var(--fill-color);\n",
              "      border-top-color: var(--fill-color);\n",
              "    }\n",
              "    30% {\n",
              "      border-color: transparent;\n",
              "      border-left-color: var(--fill-color);\n",
              "      border-top-color: var(--fill-color);\n",
              "      border-right-color: var(--fill-color);\n",
              "    }\n",
              "    40% {\n",
              "      border-color: transparent;\n",
              "      border-right-color: var(--fill-color);\n",
              "      border-top-color: var(--fill-color);\n",
              "    }\n",
              "    60% {\n",
              "      border-color: transparent;\n",
              "      border-right-color: var(--fill-color);\n",
              "    }\n",
              "    80% {\n",
              "      border-color: transparent;\n",
              "      border-right-color: var(--fill-color);\n",
              "      border-bottom-color: var(--fill-color);\n",
              "    }\n",
              "    90% {\n",
              "      border-color: transparent;\n",
              "      border-bottom-color: var(--fill-color);\n",
              "    }\n",
              "  }\n",
              "</style>\n",
              "\n",
              "  <script>\n",
              "    async function quickchart(key) {\n",
              "      const quickchartButtonEl =\n",
              "        document.querySelector('#' + key + ' button');\n",
              "      quickchartButtonEl.disabled = true;  // To prevent multiple clicks.\n",
              "      quickchartButtonEl.classList.add('colab-df-spinner');\n",
              "      try {\n",
              "        const charts = await google.colab.kernel.invokeFunction(\n",
              "            'suggestCharts', [key], {});\n",
              "      } catch (error) {\n",
              "        console.error('Error during call to suggestCharts:', error);\n",
              "      }\n",
              "      quickchartButtonEl.classList.remove('colab-df-spinner');\n",
              "      quickchartButtonEl.classList.add('colab-df-quickchart-complete');\n",
              "    }\n",
              "    (() => {\n",
              "      let quickchartButtonEl =\n",
              "        document.querySelector('#df-b97491c7-0e4c-4f9f-83f2-ce0318a86080 button');\n",
              "      quickchartButtonEl.style.display =\n",
              "        google.colab.kernel.accessAllowed ? 'block' : 'none';\n",
              "    })();\n",
              "  </script>\n",
              "</div>\n",
              "    </div>\n",
              "  </div>\n"
            ]
          },
          "metadata": {},
          "execution_count": 15
        }
      ]
    },
    {
      "cell_type": "code",
      "source": [
        "result.to_csv('./gender_submissions.csv')"
      ],
      "metadata": {
        "id": "zwR2YcklGNSc"
      },
      "execution_count": null,
      "outputs": []
    }
  ]
}