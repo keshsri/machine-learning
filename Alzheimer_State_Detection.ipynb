{
  "nbformat": 4,
  "nbformat_minor": 0,
  "metadata": {
    "colab": {
      "provenance": [],
      "gpuType": "T4",
      "authorship_tag": "ABX9TyP6F19t3+48BvfPEwUAcLX+",
      "include_colab_link": true
    },
    "kernelspec": {
      "name": "python3",
      "display_name": "Python 3"
    },
    "language_info": {
      "name": "python"
    },
    "accelerator": "GPU"
  },
  "cells": [
    {
      "cell_type": "markdown",
      "metadata": {
        "id": "view-in-github",
        "colab_type": "text"
      },
      "source": [
        "<a href=\"https://colab.research.google.com/github/keshsri/machine-learning/blob/main/Alzheimer_State_Detection.ipynb\" target=\"_parent\"><img src=\"https://colab.research.google.com/assets/colab-badge.svg\" alt=\"Open In Colab\"/></a>"
      ]
    },
    {
      "cell_type": "code",
      "source": [
        "!wget -O archive.zip \"https://www.dropbox.com/scl/fi/d1q49fbroytp9bjnb9hml/archive-4.zip?rlkey=8e3fv6k61xenr0jn2raz0mfcm&dl=0.zip\""
      ],
      "metadata": {
        "colab": {
          "base_uri": "https://localhost:8080/"
        },
        "id": "oBSvvhzVGF4e",
        "outputId": "2b690c71-b712-40f8-9cee-24577d83a0a8"
      },
      "execution_count": 1,
      "outputs": [
        {
          "output_type": "stream",
          "name": "stdout",
          "text": [
            "--2023-09-10 22:19:54--  https://www.dropbox.com/scl/fi/d1q49fbroytp9bjnb9hml/archive-4.zip?rlkey=8e3fv6k61xenr0jn2raz0mfcm&dl=0.zip\n",
            "Resolving www.dropbox.com (www.dropbox.com)... 162.125.4.18, 2620:100:6018:18::a27d:312\n",
            "Connecting to www.dropbox.com (www.dropbox.com)|162.125.4.18|:443... connected.\n",
            "HTTP request sent, awaiting response... 302 Found\n",
            "Location: https://www.dropbox.com/e/scl/fi/d1q49fbroytp9bjnb9hml/archive-4.zip?rlkey=8e3fv6k61xenr0jn2raz0mfcm&dl=0.zip [following]\n",
            "--2023-09-10 22:19:55--  https://www.dropbox.com/e/scl/fi/d1q49fbroytp9bjnb9hml/archive-4.zip?rlkey=8e3fv6k61xenr0jn2raz0mfcm&dl=0.zip\n",
            "Reusing existing connection to www.dropbox.com:443.\n",
            "HTTP request sent, awaiting response... 302 Found\n",
            "Location: https://uccb3c840078a819069f893424b0.dl.dropboxusercontent.com/cd/0/inline/CDcaEVkLhZbDlMAphNf07a0apiw41jeDEBnmKnkz2IrhT0T6QzbxfiRII5OV_wtEPgUoKOQfAX3FYEFlMnNT75sqj9TXlb-2c18eQ7Au7ERaWOJASrQahFYc3pWUnXmnCOXS1YKeBUUtC4ueBWe1pmas/file# [following]\n",
            "--2023-09-10 22:19:55--  https://uccb3c840078a819069f893424b0.dl.dropboxusercontent.com/cd/0/inline/CDcaEVkLhZbDlMAphNf07a0apiw41jeDEBnmKnkz2IrhT0T6QzbxfiRII5OV_wtEPgUoKOQfAX3FYEFlMnNT75sqj9TXlb-2c18eQ7Au7ERaWOJASrQahFYc3pWUnXmnCOXS1YKeBUUtC4ueBWe1pmas/file\n",
            "Resolving uccb3c840078a819069f893424b0.dl.dropboxusercontent.com (uccb3c840078a819069f893424b0.dl.dropboxusercontent.com)... 162.125.80.15, 2620:100:6018:15::a27d:30f\n",
            "Connecting to uccb3c840078a819069f893424b0.dl.dropboxusercontent.com (uccb3c840078a819069f893424b0.dl.dropboxusercontent.com)|162.125.80.15|:443... connected.\n",
            "HTTP request sent, awaiting response... 302 Found\n",
            "Location: /cd/0/inline2/CDf61Stj-a1PFdUdGeCieoQstSh_kqNn7FB14gdNUg0mKdUGg-i-kla686BZ-fUxHtthnhOnkR2eTiry2iPjQL2YhjNS8y6kQDShUu0xqxPmp6_nEvOr-kM5NDVIsmWLPVlgecLBTDZ7jk7jB6FBVN_DTxuEzprInsP3O6xebqKMSY64BZTIWNsLL8xviknRu9t3vNF8O-qAtFoe0rY8gDn9LGVd-UBwm_B4NsC6hiu3FKU-Gp0MsNgOTQ2juswDaZx1pnw9786x1LcOsDLvBGPkS2XA277RAgIbXeJXcgirD2xmN9NPJiqBclcVSEo7AT6gAnA1aNNq0lntQcGjepTHLIA2die_TTUj2BPDowbAeXFGR6bwjAkkESPE4FkMO0M/file [following]\n",
            "--2023-09-10 22:19:57--  https://uccb3c840078a819069f893424b0.dl.dropboxusercontent.com/cd/0/inline2/CDf61Stj-a1PFdUdGeCieoQstSh_kqNn7FB14gdNUg0mKdUGg-i-kla686BZ-fUxHtthnhOnkR2eTiry2iPjQL2YhjNS8y6kQDShUu0xqxPmp6_nEvOr-kM5NDVIsmWLPVlgecLBTDZ7jk7jB6FBVN_DTxuEzprInsP3O6xebqKMSY64BZTIWNsLL8xviknRu9t3vNF8O-qAtFoe0rY8gDn9LGVd-UBwm_B4NsC6hiu3FKU-Gp0MsNgOTQ2juswDaZx1pnw9786x1LcOsDLvBGPkS2XA277RAgIbXeJXcgirD2xmN9NPJiqBclcVSEo7AT6gAnA1aNNq0lntQcGjepTHLIA2die_TTUj2BPDowbAeXFGR6bwjAkkESPE4FkMO0M/file\n",
            "Reusing existing connection to uccb3c840078a819069f893424b0.dl.dropboxusercontent.com:443.\n",
            "HTTP request sent, awaiting response... 200 OK\n",
            "Length: 398281659 (380M) [application/zip]\n",
            "Saving to: ‘archive.zip’\n",
            "\n",
            "archive.zip         100%[===================>] 379.83M  11.7MB/s    in 31s     \n",
            "\n",
            "2023-09-10 22:20:29 (12.1 MB/s) - ‘archive.zip’ saved [398281659/398281659]\n",
            "\n"
          ]
        }
      ]
    },
    {
      "cell_type": "code",
      "source": [
        "import zipfile\n",
        "\n",
        "local_zip = './archive.zip'\n",
        "zip_ref = zipfile.ZipFile(local_zip, 'r')\n",
        "zip_ref.extractall()\n",
        "zip_ref.close()"
      ],
      "metadata": {
        "id": "NPMISwf2GP3W"
      },
      "execution_count": 2,
      "outputs": []
    },
    {
      "cell_type": "code",
      "source": [
        "!pip install split-folders\n",
        "import os\n",
        "import splitfolders\n",
        "\n",
        "os.mkdir('dataset')\n",
        "base_dir = './AugmentedAlzheimerDataset'\n",
        "splitfolders.ratio(base_dir, './dataset', seed=1337, ratio=(.8,.1,.1))"
      ],
      "metadata": {
        "colab": {
          "base_uri": "https://localhost:8080/"
        },
        "id": "GZLfhX-pG2w4",
        "outputId": "03e5d740-22c2-45a6-ac4f-e681f6f090f5"
      },
      "execution_count": 3,
      "outputs": [
        {
          "output_type": "stream",
          "name": "stdout",
          "text": [
            "Collecting split-folders\n",
            "  Downloading split_folders-0.5.1-py3-none-any.whl (8.4 kB)\n",
            "Installing collected packages: split-folders\n",
            "Successfully installed split-folders-0.5.1\n"
          ]
        },
        {
          "output_type": "stream",
          "name": "stderr",
          "text": [
            "Copying files: 33984 files [00:04, 6834.88 files/s]\n"
          ]
        }
      ]
    },
    {
      "cell_type": "code",
      "source": [
        "root_dir = './dataset'\n",
        "train_dir = os.path.join(root_dir, 'train')\n",
        "val_dir = os.path.join(root_dir, 'val')\n",
        "test_dir = os.path.join(root_dir, 'test')\n",
        "\n",
        "print(\"Length of Train Dir:\", len(os.listdir('/content/dataset/train/MildDemented')))\n",
        "print(\"Length of Val Dir:\" , len(os.listdir('/content/dataset/val/MildDemented')))\n",
        "print(\"Length of Test Dir:\", len(os.listdir('/content/dataset/test/MildDemented')))"
      ],
      "metadata": {
        "colab": {
          "base_uri": "https://localhost:8080/"
        },
        "id": "LuRf0lg7HAim",
        "outputId": "4612ba36-f5f2-44dc-c569-899225f0dde6"
      },
      "execution_count": 5,
      "outputs": [
        {
          "output_type": "stream",
          "name": "stdout",
          "text": [
            "Length of Train Dir: 7168\n",
            "Length of Val Dir: 896\n",
            "Length of Test Dir: 896\n"
          ]
        }
      ]
    },
    {
      "cell_type": "code",
      "source": [
        "from tensorflow.keras.preprocessing.image import ImageDataGenerator\n",
        "\n",
        "train_datagen = ImageDataGenerator(\n",
        "    rescale=1./255.,\n",
        "    rotation_range=40,\n",
        "    width_shift_range=0.2,\n",
        "    height_shift_range=0.2,\n",
        "    shear_range=0.2,\n",
        "    horizontal_flip=True,\n",
        "    fill_mode='nearest'\n",
        ")\n",
        "\n",
        "validation_datagen = ImageDataGenerator(rescale=1./255.)\n",
        "\n",
        "test_datagen = ImageDataGenerator(rescale=1./255.)"
      ],
      "metadata": {
        "id": "Rn0obQlOIqNT"
      },
      "execution_count": 6,
      "outputs": []
    },
    {
      "cell_type": "code",
      "source": [
        "train_generator = train_datagen.flow_from_directory(\n",
        "    train_dir,\n",
        "    target_size=(200,200),\n",
        "    batch_size=256,\n",
        "    class_mode='categorical'\n",
        ")\n",
        "\n",
        "validation_generator = validation_datagen.flow_from_directory(\n",
        "    val_dir,\n",
        "    target_size=(200,200),\n",
        "    batch_size=256,\n",
        "    class_mode='categorical'\n",
        ")\n",
        "\n",
        "test_generator = test_datagen.flow_from_directory(\n",
        "    test_dir,\n",
        "    target_size=(200,200),\n",
        "    batch_size=256,\n",
        "    class_mode='categorical'\n",
        ")"
      ],
      "metadata": {
        "colab": {
          "base_uri": "https://localhost:8080/"
        },
        "id": "t3CQNsHYJK2l",
        "outputId": "f1e0091e-3ba3-4035-8dfb-b5eace3c11fd"
      },
      "execution_count": 7,
      "outputs": [
        {
          "output_type": "stream",
          "name": "stdout",
          "text": [
            "Found 27187 images belonging to 4 classes.\n",
            "Found 3398 images belonging to 4 classes.\n",
            "Found 3399 images belonging to 4 classes.\n"
          ]
        }
      ]
    },
    {
      "cell_type": "code",
      "source": [
        "from tensorflow import keras\n",
        "from tensorflow.keras.layers import Dense, Conv2D, MaxPooling2D, Dropout, Flatten\n",
        "\n",
        "model = keras.models.Sequential([\n",
        "    Conv2D(32, (3,3), activation='relu', input_shape=(200,200,3)),\n",
        "    MaxPooling2D(2,2),\n",
        "    Conv2D(64, (3,3), activation='relu'),\n",
        "    MaxPooling2D(2,2),\n",
        "    Dropout(0.2),\n",
        "    Conv2D(128, (3,3), activation='relu'),\n",
        "    MaxPooling2D(2,2),\n",
        "    Conv2D(128, (3,3), activation='relu'),\n",
        "    MaxPooling2D(2,2),\n",
        "    Dropout(0.2),\n",
        "    Conv2D(128, (3,3), activation='relu'),\n",
        "    MaxPooling2D(2,2),\n",
        "    Flatten(),\n",
        "    Dropout(0.2),\n",
        "    Dense(512, activation='relu'),\n",
        "    Dense(4, activation='softmax')\n",
        "])\n",
        "\n",
        "model.summary()"
      ],
      "metadata": {
        "colab": {
          "base_uri": "https://localhost:8080/"
        },
        "id": "GENqW5x_O-Bp",
        "outputId": "2a1af403-095f-4fa3-9858-baff3c31da46"
      },
      "execution_count": 10,
      "outputs": [
        {
          "output_type": "stream",
          "name": "stdout",
          "text": [
            "Model: \"sequential_2\"\n",
            "_________________________________________________________________\n",
            " Layer (type)                Output Shape              Param #   \n",
            "=================================================================\n",
            " conv2d_8 (Conv2D)           (None, 198, 198, 32)      896       \n",
            "                                                                 \n",
            " max_pooling2d_8 (MaxPoolin  (None, 99, 99, 32)        0         \n",
            " g2D)                                                            \n",
            "                                                                 \n",
            " conv2d_9 (Conv2D)           (None, 97, 97, 64)        18496     \n",
            "                                                                 \n",
            " max_pooling2d_9 (MaxPoolin  (None, 48, 48, 64)        0         \n",
            " g2D)                                                            \n",
            "                                                                 \n",
            " dropout_4 (Dropout)         (None, 48, 48, 64)        0         \n",
            "                                                                 \n",
            " conv2d_10 (Conv2D)          (None, 46, 46, 128)       73856     \n",
            "                                                                 \n",
            " max_pooling2d_10 (MaxPooli  (None, 23, 23, 128)       0         \n",
            " ng2D)                                                           \n",
            "                                                                 \n",
            " conv2d_11 (Conv2D)          (None, 21, 21, 128)       147584    \n",
            "                                                                 \n",
            " max_pooling2d_11 (MaxPooli  (None, 10, 10, 128)       0         \n",
            " ng2D)                                                           \n",
            "                                                                 \n",
            " dropout_5 (Dropout)         (None, 10, 10, 128)       0         \n",
            "                                                                 \n",
            " conv2d_12 (Conv2D)          (None, 8, 8, 128)         147584    \n",
            "                                                                 \n",
            " max_pooling2d_12 (MaxPooli  (None, 4, 4, 128)         0         \n",
            " ng2D)                                                           \n",
            "                                                                 \n",
            " flatten_2 (Flatten)         (None, 2048)              0         \n",
            "                                                                 \n",
            " dropout_6 (Dropout)         (None, 2048)              0         \n",
            "                                                                 \n",
            " dense_4 (Dense)             (None, 512)               1049088   \n",
            "                                                                 \n",
            " dense_5 (Dense)             (None, 4)                 2052      \n",
            "                                                                 \n",
            "=================================================================\n",
            "Total params: 1439556 (5.49 MB)\n",
            "Trainable params: 1439556 (5.49 MB)\n",
            "Non-trainable params: 0 (0.00 Byte)\n",
            "_________________________________________________________________\n"
          ]
        }
      ]
    },
    {
      "cell_type": "code",
      "source": [
        "model.compile(\n",
        "    optimizer='Adam',\n",
        "    loss='categorical_crossentropy',\n",
        "    metrics=['accuracy']\n",
        ")"
      ],
      "metadata": {
        "id": "oK6YY0dPQa-I"
      },
      "execution_count": 11,
      "outputs": []
    },
    {
      "cell_type": "code",
      "source": [
        "history = model.fit(\n",
        "    train_generator,\n",
        "    validation_data=validation_generator,\n",
        "    steps_per_epoch=107,\n",
        "    epochs=20,\n",
        "    validation_steps=14,\n",
        "    verbose=1\n",
        ")"
      ],
      "metadata": {
        "colab": {
          "base_uri": "https://localhost:8080/"
        },
        "id": "TQPqCUr0RHni",
        "outputId": "cff4e397-2412-431a-d4f5-894cea4dd8c6"
      },
      "execution_count": 12,
      "outputs": [
        {
          "output_type": "stream",
          "name": "stdout",
          "text": [
            "Epoch 1/20\n",
            "107/107 [==============================] - 408s 4s/step - loss: 1.3740 - accuracy: 0.2878 - val_loss: 1.3354 - val_accuracy: 0.3411\n",
            "Epoch 2/20\n",
            "107/107 [==============================] - 310s 3s/step - loss: 1.2585 - accuracy: 0.3941 - val_loss: 1.1428 - val_accuracy: 0.4500\n",
            "Epoch 3/20\n",
            "107/107 [==============================] - 295s 3s/step - loss: 1.1717 - accuracy: 0.4439 - val_loss: 1.0645 - val_accuracy: 0.4935\n",
            "Epoch 4/20\n",
            "107/107 [==============================] - 294s 3s/step - loss: 1.0681 - accuracy: 0.5086 - val_loss: 1.1451 - val_accuracy: 0.4665\n",
            "Epoch 5/20\n",
            "107/107 [==============================] - 294s 3s/step - loss: 0.9536 - accuracy: 0.5622 - val_loss: 0.7985 - val_accuracy: 0.6368\n",
            "Epoch 6/20\n",
            "107/107 [==============================] - 299s 3s/step - loss: 0.8797 - accuracy: 0.5951 - val_loss: 0.7472 - val_accuracy: 0.6604\n",
            "Epoch 7/20\n",
            "107/107 [==============================] - 295s 3s/step - loss: 0.8206 - accuracy: 0.6233 - val_loss: 0.7366 - val_accuracy: 0.6680\n",
            "Epoch 8/20\n",
            "107/107 [==============================] - 296s 3s/step - loss: 0.7641 - accuracy: 0.6476 - val_loss: 0.6968 - val_accuracy: 0.6810\n",
            "Epoch 9/20\n",
            "107/107 [==============================] - 293s 3s/step - loss: 0.7436 - accuracy: 0.6575 - val_loss: 0.6328 - val_accuracy: 0.7087\n",
            "Epoch 10/20\n",
            "107/107 [==============================] - 294s 3s/step - loss: 0.7108 - accuracy: 0.6702 - val_loss: 0.6168 - val_accuracy: 0.7048\n",
            "Epoch 11/20\n",
            "107/107 [==============================] - 293s 3s/step - loss: 0.7066 - accuracy: 0.6734 - val_loss: 0.6050 - val_accuracy: 0.7154\n",
            "Epoch 12/20\n",
            "107/107 [==============================] - 293s 3s/step - loss: 0.6825 - accuracy: 0.6844 - val_loss: 0.5884 - val_accuracy: 0.7293\n",
            "Epoch 13/20\n",
            "107/107 [==============================] - 291s 3s/step - loss: 0.6691 - accuracy: 0.6900 - val_loss: 0.5602 - val_accuracy: 0.7325\n",
            "Epoch 14/20\n",
            "107/107 [==============================] - 292s 3s/step - loss: 0.6486 - accuracy: 0.6962 - val_loss: 0.6316 - val_accuracy: 0.7081\n",
            "Epoch 15/20\n",
            "107/107 [==============================] - 297s 3s/step - loss: 0.6406 - accuracy: 0.7039 - val_loss: 0.5834 - val_accuracy: 0.7298\n",
            "Epoch 16/20\n",
            "107/107 [==============================] - 296s 3s/step - loss: 0.6159 - accuracy: 0.7145 - val_loss: 0.5477 - val_accuracy: 0.7419\n",
            "Epoch 17/20\n",
            "107/107 [==============================] - 298s 3s/step - loss: 0.6087 - accuracy: 0.7189 - val_loss: 0.5080 - val_accuracy: 0.7634\n",
            "Epoch 18/20\n",
            "107/107 [==============================] - 294s 3s/step - loss: 0.5927 - accuracy: 0.7236 - val_loss: 0.4934 - val_accuracy: 0.7705\n",
            "Epoch 19/20\n",
            "107/107 [==============================] - 293s 3s/step - loss: 0.5897 - accuracy: 0.7305 - val_loss: 0.4828 - val_accuracy: 0.7766\n",
            "Epoch 20/20\n",
            "107/107 [==============================] - 294s 3s/step - loss: 0.5636 - accuracy: 0.7414 - val_loss: 0.4500 - val_accuracy: 0.7946\n"
          ]
        }
      ]
    },
    {
      "cell_type": "code",
      "source": [
        "import matplotlib.pyplot as plt\n",
        "\n",
        "acc = history.history['accuracy']\n",
        "val_acc = history.history['val_accuracy']\n",
        "loss = history.history['loss']\n",
        "val_loss = history.history['val_loss']\n",
        "epochs = range(len(acc))\n",
        "\n",
        "plt.plot(epochs, acc, 'r', label=\"Training Accuracy\")\n",
        "plt.plot(epochs, val_acc, 'b', label=\"Validation Accuracy\")\n",
        "plt.title(\"Training and Validation Accuracy\")\n",
        "plt.show()\n",
        "\n",
        "plt.plot(epochs, loss, 'r', label=\"Training Loss\")\n",
        "plt.plot(epochs, val_loss, 'b', label=\"Validation Loss\")\n",
        "plt.title(\"Training and Validation Loss\")\n",
        "plt.show()"
      ],
      "metadata": {
        "colab": {
          "base_uri": "https://localhost:8080/",
          "height": 887
        },
        "id": "7xRfWU2_Rnm3",
        "outputId": "a5b8b107-37d8-4317-c364-0f09b588bc8c"
      },
      "execution_count": 14,
      "outputs": [
        {
          "output_type": "display_data",
          "data": {
            "text/plain": [
              "<Figure size 640x480 with 1 Axes>"
            ],
            "image/png": "[encoded data removed]"
          },
          "metadata": {}
        },
        {
          "output_type": "display_data",
          "data": {
            "text/plain": [
              "<Figure size 640x480 with 1 Axes>"
            ],
            "image/png": "[encoded data removed]"
          },
          "metadata": {}
        }
      ]
    },
    {
      "cell_type": "code",
      "source": [
        "model.evaluate(test_generator)"
      ],
      "metadata": {
        "colab": {
          "base_uri": "https://localhost:8080/"
        },
        "id": "J0hBVExtTGsh",
        "outputId": "64ce9acc-d77f-46a5-80d5-37117b0466da"
      },
      "execution_count": 15,
      "outputs": [
        {
          "output_type": "stream",
          "name": "stdout",
          "text": [
            "14/14 [==============================] - 7s 474ms/step - loss: 0.4372 - accuracy: 0.8002\n"
          ]
        },
        {
          "output_type": "execute_result",
          "data": {
            "text/plain": [
              "[0.43722066283226013, 0.800235390663147]"
            ]
          },
          "metadata": {},
          "execution_count": 15
        }
      ]
    },
    {
      "cell_type": "code",
      "source": [
        "model.save('Alzheimer_State_Detection.h5')\n",
        "\n",
        "from google.colab import files\n",
        "files.download('Alzheimer_State_Detection.h5')"
      ],
      "metadata": {
        "colab": {
          "base_uri": "https://localhost:8080/",
          "height": 72
        },
        "id": "kgUTd0aFTNIk",
        "outputId": "555da806-f749-46d1-ef21-80fbad61705d"
      },
      "execution_count": 16,
      "outputs": [
        {
          "output_type": "stream",
          "name": "stderr",
          "text": [
            "/usr/local/lib/python3.10/dist-packages/keras/src/engine/training.py:3000: UserWarning: You are saving your model as an HDF5 file via `model.save()`. This file format is considered legacy. We recommend using instead the native Keras format, e.g. `model.save('my_model.keras')`.\n",
            "  saving_api.save_model(\n"
          ]
        },
        {
          "output_type": "display_data",
          "data": {
            "text/plain": [
              "<IPython.core.display.Javascript object>"
            ],
            "application/javascript": [
              "\n",
              "    async function download(id, filename, size) {\n",
              "      if (!google.colab.kernel.accessAllowed) {\n",
              "        return;\n",
              "      }\n",
              "      const div = document.createElement('div');\n",
              "      const label = document.createElement('label');\n",
              "      label.textContent = `Downloading \"${filename}\": `;\n",
              "      div.appendChild(label);\n",
              "      const progress = document.createElement('progress');\n",
              "      progress.max = size;\n",
              "      div.appendChild(progress);\n",
              "      document.body.appendChild(div);\n",
              "\n",
              "      const buffers = [];\n",
              "      let downloaded = 0;\n",
              "\n",
              "      const channel = await google.colab.kernel.comms.open(id);\n",
              "      // Send a message to notify the kernel that we're ready.\n",
              "      channel.send({})\n",
              "\n",
              "      for await (const message of channel.messages) {\n",
              "        // Send a message to notify the kernel that we're ready.\n",
              "        channel.send({})\n",
              "        if (message.buffers) {\n",
              "          for (const buffer of message.buffers) {\n",
              "            buffers.push(buffer);\n",
              "            downloaded += buffer.byteLength;\n",
              "            progress.value = downloaded;\n",
              "          }\n",
              "        }\n",
              "      }\n",
              "      const blob = new Blob(buffers, {type: 'application/binary'});\n",
              "      const a = document.createElement('a');\n",
              "      a.href = window.URL.createObjectURL(blob);\n",
              "      a.download = filename;\n",
              "      div.appendChild(a);\n",
              "      a.click();\n",
              "      div.remove();\n",
              "    }\n",
              "  "
            ]
          },
          "metadata": {}
        },
        {
          "output_type": "display_data",
          "data": {
            "text/plain": [
              "<IPython.core.display.Javascript object>"
            ],
            "application/javascript": [
              "download(\"download_749e0b8a-be23-4ecc-b292-15374f32910b\", \"Alzheimer_State_Detection.h5\", 17347256)"
            ]
          },
          "metadata": {}
        }
      ]
    },
    {
      "cell_type": "code",
      "source": [],
      "metadata": {
        "id": "4bo_WqcmToiL"
      },
      "execution_count": null,
      "outputs": []
    }
  ]
}